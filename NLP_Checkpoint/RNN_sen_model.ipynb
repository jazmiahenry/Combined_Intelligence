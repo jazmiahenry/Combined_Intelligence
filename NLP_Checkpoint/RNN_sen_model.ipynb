{
  "nbformat": 4,
  "nbformat_minor": 0,
  "metadata": {
    "kernelspec": {
      "display_name": "Python 3",
      "language": "python",
      "name": "python3"
    },
    "language_info": {
      "codemirror_mode": {
        "name": "ipython",
        "version": 3
      },
      "file_extension": ".py",
      "mimetype": "text/x-python",
      "name": "python",
      "nbconvert_exporter": "python",
      "pygments_lexer": "ipython3",
      "version": "3.7.6"
    },
    "colab": {
      "name": "RNN_sen_model.ipynb",
      "provenance": []
    }
  },
  "cells": [
    {
      "cell_type": "code",
      "metadata": {
        "id": "sdJWFxkSwqzX",
        "colab_type": "code",
        "colab": {}
      },
      "source": [
        "!pip install simpletransformers"
      ],
      "execution_count": null,
      "outputs": []
    },
    {
      "cell_type": "code",
      "metadata": {
        "id": "SnctXtYBwqzc",
        "colab_type": "code",
        "colab": {}
      },
      "source": [
        "import warnings\n",
        "warnings.simplefilter('ignore')\n",
        "import gc\n",
        "from scipy.special import softmax\n",
        "\n",
        "from simpletransformers.classification.classification_model import ClassificationModel\n",
        "from sklearn.metrics import mean_squared_error as mse"
      ],
      "execution_count": null,
      "outputs": []
    },
    {
      "cell_type": "code",
      "metadata": {
        "id": "fZ3rMbdxwqzh",
        "colab_type": "code",
        "colab": {}
      },
      "source": [
        "from google.colab import drive\n",
        "drive.mount('/content/drive/')"
      ],
      "execution_count": null,
      "outputs": []
    },
    {
      "cell_type": "code",
      "metadata": {
        "id": "FXuNXs4fwqzr",
        "colab_type": "code",
        "colab": {}
      },
      "source": [
        "from google.colab import files\n",
        "uploaded = files.upload()"
      ],
      "execution_count": null,
      "outputs": []
    },
    {
      "cell_type": "code",
      "metadata": {
        "id": "FrPzqs-2wqzv",
        "colab_type": "code",
        "colab": {}
      },
      "source": [
        "import io\n",
        "df = pd.read_csv(io.BytesIO(uploaded['df.csv']))"
      ],
      "execution_count": null,
      "outputs": []
    },
    {
      "cell_type": "code",
      "metadata": {
        "id": "ZW_uB6pKwqzy",
        "colab_type": "code",
        "colab": {}
      },
      "source": [
        "train = df.iloc[:, :11685610]\n",
        "test = df.iloc[:, 11685610:]"
      ],
      "execution_count": null,
      "outputs": []
    },
    {
      "cell_type": "code",
      "metadata": {
        "id": "uyJvYfHvwqz3",
        "colab_type": "code",
        "colab": {}
      },
      "source": [
        "train.head()"
      ],
      "execution_count": null,
      "outputs": []
    },
    {
      "cell_type": "code",
      "metadata": {
        "id": "hBe0GdStwqz6",
        "colab_type": "code",
        "colab": {}
      },
      "source": [
        "train['text'].apply(lambda x: len(x)).describe()"
      ],
      "execution_count": null,
      "outputs": []
    },
    {
      "cell_type": "code",
      "metadata": {
        "id": "rwf56C0jwqz9",
        "colab_type": "code",
        "colab": {}
      },
      "source": [
        "train['label'].value_counts()"
      ],
      "execution_count": null,
      "outputs": []
    },
    {
      "cell_type": "code",
      "metadata": {
        "id": "uNI-heqgwqz_",
        "colab_type": "code",
        "colab": {}
      },
      "source": [
        "train['label'][~train['label'].isin([0, -1, 1])] = -1"
      ],
      "execution_count": null,
      "outputs": []
    },
    {
      "cell_type": "code",
      "metadata": {
        "id": "oIICSH60wq0D",
        "colab_type": "code",
        "colab": {}
      },
      "source": [
        "train.isnull().sum()"
      ],
      "execution_count": null,
      "outputs": []
    },
    {
      "cell_type": "code",
      "metadata": {
        "id": "XdiMbBmSwq0H",
        "colab_type": "code",
        "colab": {}
      },
      "source": [
        "test.head()"
      ],
      "execution_count": null,
      "outputs": []
    },
    {
      "cell_type": "code",
      "metadata": {
        "id": "4JQQLvhWwq0K",
        "colab_type": "code",
        "colab": {}
      },
      "source": [
        "test.isnull().sum()"
      ],
      "execution_count": null,
      "outputs": []
    },
    {
      "cell_type": "code",
      "metadata": {
        "id": "MQcl_kqZwq0M",
        "colab_type": "code",
        "colab": {}
      },
      "source": [
        "train[train['label'] == 1]['text'].values[:5]"
      ],
      "execution_count": null,
      "outputs": []
    },
    {
      "cell_type": "code",
      "metadata": {
        "id": "kbexOdmFwq0P",
        "colab_type": "code",
        "colab": {}
      },
      "source": [
        "train[train['label'] == 0]['text'].values[:5]"
      ],
      "execution_count": null,
      "outputs": []
    },
    {
      "cell_type": "code",
      "metadata": {
        "id": "XnrsxMq4wq0T",
        "colab_type": "code",
        "colab": {}
      },
      "source": [
        "train[train['label'] == -1]['text'].values[:5]"
      ],
      "execution_count": null,
      "outputs": []
    },
    {
      "cell_type": "code",
      "metadata": {
        "id": "rv_4pzvUwq0X",
        "colab_type": "code",
        "colab": {}
      },
      "source": [
        "def get_model(model_type, model_name, n_epochs = 2, train_batch_size = 112, eval_batch_size = 144, seq_len = 134, lr = 2e-5):\n",
        "  model = ClassificationModel(model_type, model_name,num_labels=1, args={'train_batch_size':train_batch_size,\n",
        "                                                                         \"eval_batch_size\": eval_batch_size,\n",
        "                                                                         'reprocess_input_data': True,\n",
        "                                                                         'overwrite_output_dir': True,\n",
        "                                                                         'fp16': False,\n",
        "                                                                         'do_lower_case': False,\n",
        "                                                                         'num_train_epochs': n_epochs,\n",
        "                                                                         'max_seq_length': seq_len,\n",
        "                                                                         'regression': True,\n",
        "                                                                         'manual_seed': 2,\n",
        "                                                                         \"learning_rate\":lr,\n",
        "                                                                         \"save_eval_checkpoints\": False,\n",
        "                                                                         \"save_model_every_epoch\": False,})\n",
        "return model"
      ],
      "execution_count": null,
      "outputs": []
    },
    {
      "cell_type": "code",
      "metadata": {
        "id": "iOZwU2K1wq0a",
        "colab_type": "code",
        "colab": {}
      },
      "source": [
        "tmp = pd.DataFrame()\n",
        "tmp['text'] = train['text']\n",
        "tmp['labels'] = train['label']\n",
        "tmp_test = test[['text']].rename({'text': 'text'}, axis=1)\n",
        "tmp_test['labels'] = 0\n",
        "tmp_trn, tmp_val = train_test_split(tmp, test_size=0.15, random_state=2)"
      ],
      "execution_count": null,
      "outputs": []
    },
    {
      "cell_type": "code",
      "metadata": {
        "id": "TluQ0xyUwq0h",
        "colab_type": "code",
        "colab": {}
      },
      "source": [
        "model = get_model('roberta', 'roberta-base', n_epochs=3)\n",
        "model.train_model(tmp_trn)\n",
        "preds_val = model.eval_model(tmp_val)[1]\n",
        "preds_val = np.clip(preds_val, -1, 1)\n",
        "print(f\"RMSE: {mse(tmp_val['labels'], preds_val)**0.5}\")\n",
        "test_preds = model.eval_model(tmp_test)[1]\n",
        "test_preds = np.clip(test_preds, -1, 1)\n",
        "pv_1 = preds_val\n",
        "pt_1 = test_preds"
      ],
      "execution_count": null,
      "outputs": []
    },
    {
      "cell_type": "code",
      "metadata": {
        "id": "cQdJ8a6Bwq0k",
        "colab_type": "code",
        "colab": {}
      },
      "source": [
        "model = get_model('roberta', 'roberta-large', n_epochs=1, train_batch_size=16, eval_batch_size=16)\n",
        "model.train_model(tmp_trn)\n",
        "preds_val = model.eval_model(tmp_val)[1]\n",
        "preds_val = np.clip(preds_val, -1, 1)\n",
        "print(f\"RMSE: {mse(tmp_val['labels'], preds_val)**0.5}\")\n",
        "test_preds = model.eval_model(tmp_test)[1]\n",
        "test_preds = np.clip(test_preds, -1, 1)\n",
        "pv_2 = preds_val\n",
        "pt_2 = test_preds"
      ],
      "execution_count": null,
      "outputs": []
    },
    {
      "cell_type": "code",
      "metadata": {
        "id": "J9NJTI3Ywq0m",
        "colab_type": "code",
        "colab": {}
      },
      "source": [
        "model = get_model('roberta', 'roberta-large', n_epochs=2, train_batch_size=16, eval_batch_size=16, lr = 2e-5)\n",
        "model.train_model(tmp_trn)\n",
        "preds_val = model.eval_model(tmp_val)[1]\n",
        "preds_val = np.clip(preds_val, -1, 1)\n",
        "print(f\"RMSE: {mse(tmp_val['labels'], preds_val)**0.5}\")\n",
        "test_preds = model.eval_model(tmp_test)[1]\n",
        "test_preds = np.clip(test_preds, -1, 1)\n",
        "pv_3 = preds_val\n",
        "pt_3 = test_preds"
      ],
      "execution_count": null,
      "outputs": []
    },
    {
      "cell_type": "code",
      "metadata": {
        "id": "J147A5HXwq0p",
        "colab_type": "code",
        "colab": {}
      },
      "source": [
        "model = get_model('roberta', 'roberta-large', n_epochs=3, train_batch_size=16, eval_batch_size=16, lr = 1e-5)\n",
        "model.train_model(tmp_trn)\n",
        "preds_val = model.eval_model(tmp_val)[1]\n",
        "preds_val = np.clip(preds_val, -1, 1)\n",
        "print(f\"RMSE: {mse(tmp_val['labels'], preds_val)**0.5}\")\n",
        "test_preds = model.eval_model(tmp_test)[1]\n",
        "test_preds = np.clip(test_preds, -1, 1)\n",
        "pv_4 = preds_val\n",
        "pt_4 = test_preds"
      ],
      "execution_count": null,
      "outputs": []
    },
    {
      "cell_type": "code",
      "metadata": {
        "id": "j5zJfBLiwq0u",
        "colab_type": "code",
        "colab": {}
      },
      "source": [
        "pv = ((pv_1 * 0.3 + pv_2 * 0.7) * 0.3 + pv_3*0.7)*0.65 + pv_4*0.35\n",
        "print(f\"RMSE: {mse(tmp_val['labels'], pv)**0.5}\")"
      ],
      "execution_count": null,
      "outputs": []
    },
    {
      "cell_type": "code",
      "metadata": {
        "id": "J4quuJYywq0w",
        "colab_type": "code",
        "colab": {}
      },
      "source": [
        "tp = ((pt_1 * 0.3 + pt_2 * 0.7) * 0.3 + pt_3*0.7)*0.65 + pt_4*0.35"
      ],
      "execution_count": null,
      "outputs": []
    },
    {
      "cell_type": "code",
      "metadata": {
        "id": "N69RDXpewq00",
        "colab_type": "code",
        "colab": {}
      },
      "source": [
        "pd.Series(tp).describe()"
      ],
      "execution_count": null,
      "outputs": []
    }
  ]
}