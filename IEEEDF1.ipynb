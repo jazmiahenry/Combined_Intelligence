{
  "nbformat": 4,
  "nbformat_minor": 0,
  "metadata": {
    "colab": {
      "name": "Untitled1.ipynb",
      "provenance": []
    },
    "kernelspec": {
      "name": "python3",
      "display_name": "Python 3"
    },
    "accelerator": "GPU"
  },
  "cells": [
    {
      "cell_type": "code",
      "metadata": {
        "id": "bb9fZERih2wW",
        "colab_type": "code",
        "colab": {
          "base_uri": "https://localhost:8080/",
          "height": 34
        },
        "outputId": "dcb6111c-7f7d-4bb2-dd03-0144c4ad825a"
      },
      "source": [
        "%tensorflow_version 2.x\n",
        "import tensorflow as tf\n",
        "device_name = tf.test.gpu_device_name()\n",
        "if device_name != '/device:GPU:0':\n",
        "  raise SystemError('GPU device not found')\n",
        "print('Found GPU at: {}'.format(device_name))\n"
      ],
      "execution_count": null,
      "outputs": [
        {
          "output_type": "stream",
          "text": [
            "Found GPU at: /device:GPU:0\n"
          ],
          "name": "stdout"
        }
      ]
    },
    {
      "cell_type": "code",
      "metadata": {
        "id": "pPzdJCkzjDYo",
        "colab_type": "code",
        "colab": {
          "base_uri": "https://localhost:8080/",
          "height": 51
        },
        "outputId": "be2fa5fd-cb6e-4bd5-ff8f-77e0c0975c5a"
      },
      "source": [
        "%tensorflow_version 2.x\n",
        "import timeit\n",
        "import keras\n",
        "\n",
        "def cpu():\n",
        "  with tf.device('/cpu:0'):\n",
        "    random_image_cpu = tf.random.normal((100,100,100,3))\n",
        "    net_cpu = tf.keras.layers.Conv2D(32,7)(random_image_cpu)\n",
        "    return tf.math.reduce_sum(net_cpu)\n",
        "\n",
        "def gpu():\n",
        "  with tf.device('/device:GPU:0'):\n",
        "    random_image_gpu = tf.random.normal((100,100,100,3))\n",
        "    net_gpu = tf.keras.layers.Conv2D(32, 7)(random_image_gpu)\n",
        "    return tf.math.reduce_sum(net_gpu)\n",
        "\n",
        "cpu()\n",
        "gpu()"
      ],
      "execution_count": null,
      "outputs": [
        {
          "output_type": "stream",
          "text": [
            "Using TensorFlow backend.\n"
          ],
          "name": "stderr"
        },
        {
          "output_type": "execute_result",
          "data": {
            "text/plain": [
              "<tf.Tensor: shape=(), dtype=float32, numpy=1631.3289>"
            ]
          },
          "metadata": {
            "tags": []
          },
          "execution_count": 2
        }
      ]
    },
    {
      "cell_type": "code",
      "metadata": {
        "id": "jALJ3oPFkvpy",
        "colab_type": "code",
        "colab": {
          "base_uri": "https://localhost:8080/",
          "height": 224
        },
        "outputId": "123bd65f-b746-47e1-d289-4df705e3888e"
      },
      "source": [
        "import pandas as pd\n",
        "import numpy as np\n",
        "!pip install langdetect\n",
        "import langdetect\n",
        "import keras\n",
        "import math\n",
        "from sklearn.linear_model import LogisticRegression\n",
        "from sklearn.metrics import accuracy_score\n",
        "from sklearn.model_selection import train_test_split"
      ],
      "execution_count": null,
      "outputs": [
        {
          "output_type": "stream",
          "text": [
            "Collecting langdetect\n",
            "\u001b[?25l  Downloading https://files.pythonhosted.org/packages/56/a3/8407c1e62d5980188b4acc45ef3d94b933d14a2ebc9ef3505f22cf772570/langdetect-1.0.8.tar.gz (981kB)\n",
            "\r\u001b[K     |▍                               | 10kB 29.4MB/s eta 0:00:01\r\u001b[K     |▊                               | 20kB 2.1MB/s eta 0:00:01\r\u001b[K     |█                               | 30kB 2.7MB/s eta 0:00:01\r\u001b[K     |█▍                              | 40kB 3.1MB/s eta 0:00:01\r\u001b[K     |█▊                              | 51kB 2.6MB/s eta 0:00:01\r\u001b[K     |██                              | 61kB 2.8MB/s eta 0:00:01\r\u001b[K     |██▍                             | 71kB 3.1MB/s eta 0:00:01\r\u001b[K     |██▊                             | 81kB 3.4MB/s eta 0:00:01\r\u001b[K     |███                             | 92kB 3.6MB/s eta 0:00:01\r\u001b[K     |███▍                            | 102kB 3.4MB/s eta 0:00:01\r\u001b[K     |███▊                            | 112kB 3.4MB/s eta 0:00:01\r\u001b[K     |████                            | 122kB 3.4MB/s eta 0:00:01\r\u001b[K     |████▍                           | 133kB 3.4MB/s eta 0:00:01\r\u001b[K     |████▊                           | 143kB 3.4MB/s eta 0:00:01\r\u001b[K     |█████                           | 153kB 3.4MB/s eta 0:00:01\r\u001b[K     |█████▍                          | 163kB 3.4MB/s eta 0:00:01\r\u001b[K     |█████▊                          | 174kB 3.4MB/s eta 0:00:01\r\u001b[K     |██████                          | 184kB 3.4MB/s eta 0:00:01\r\u001b[K     |██████▍                         | 194kB 3.4MB/s eta 0:00:01\r\u001b[K     |██████▊                         | 204kB 3.4MB/s eta 0:00:01\r\u001b[K     |███████                         | 215kB 3.4MB/s eta 0:00:01\r\u001b[K     |███████▍                        | 225kB 3.4MB/s eta 0:00:01\r\u001b[K     |███████▊                        | 235kB 3.4MB/s eta 0:00:01\r\u001b[K     |████████                        | 245kB 3.4MB/s eta 0:00:01\r\u001b[K     |████████▍                       | 256kB 3.4MB/s eta 0:00:01\r\u001b[K     |████████▊                       | 266kB 3.4MB/s eta 0:00:01\r\u001b[K     |█████████                       | 276kB 3.4MB/s eta 0:00:01\r\u001b[K     |█████████▍                      | 286kB 3.4MB/s eta 0:00:01\r\u001b[K     |█████████▊                      | 296kB 3.4MB/s eta 0:00:01\r\u001b[K     |██████████                      | 307kB 3.4MB/s eta 0:00:01\r\u001b[K     |██████████▍                     | 317kB 3.4MB/s eta 0:00:01\r\u001b[K     |██████████▊                     | 327kB 3.4MB/s eta 0:00:01\r\u001b[K     |███████████                     | 337kB 3.4MB/s eta 0:00:01\r\u001b[K     |███████████▍                    | 348kB 3.4MB/s eta 0:00:01\r\u001b[K     |███████████▊                    | 358kB 3.4MB/s eta 0:00:01\r\u001b[K     |████████████                    | 368kB 3.4MB/s eta 0:00:01\r\u001b[K     |████████████▍                   | 378kB 3.4MB/s eta 0:00:01\r\u001b[K     |████████████▊                   | 389kB 3.4MB/s eta 0:00:01\r\u001b[K     |█████████████                   | 399kB 3.4MB/s eta 0:00:01\r\u001b[K     |█████████████▍                  | 409kB 3.4MB/s eta 0:00:01\r\u001b[K     |█████████████▊                  | 419kB 3.4MB/s eta 0:00:01\r\u001b[K     |██████████████                  | 430kB 3.4MB/s eta 0:00:01\r\u001b[K     |██████████████▍                 | 440kB 3.4MB/s eta 0:00:01\r\u001b[K     |██████████████▊                 | 450kB 3.4MB/s eta 0:00:01\r\u001b[K     |███████████████                 | 460kB 3.4MB/s eta 0:00:01\r\u001b[K     |███████████████▍                | 471kB 3.4MB/s eta 0:00:01\r\u001b[K     |███████████████▊                | 481kB 3.4MB/s eta 0:00:01\r\u001b[K     |████████████████                | 491kB 3.4MB/s eta 0:00:01\r\u001b[K     |████████████████▍               | 501kB 3.4MB/s eta 0:00:01\r\u001b[K     |████████████████▊               | 512kB 3.4MB/s eta 0:00:01\r\u001b[K     |█████████████████               | 522kB 3.4MB/s eta 0:00:01\r\u001b[K     |█████████████████▍              | 532kB 3.4MB/s eta 0:00:01\r\u001b[K     |█████████████████▊              | 542kB 3.4MB/s eta 0:00:01\r\u001b[K     |██████████████████              | 552kB 3.4MB/s eta 0:00:01\r\u001b[K     |██████████████████▍             | 563kB 3.4MB/s eta 0:00:01\r\u001b[K     |██████████████████▊             | 573kB 3.4MB/s eta 0:00:01\r\u001b[K     |███████████████████             | 583kB 3.4MB/s eta 0:00:01\r\u001b[K     |███████████████████▍            | 593kB 3.4MB/s eta 0:00:01\r\u001b[K     |███████████████████▊            | 604kB 3.4MB/s eta 0:00:01\r\u001b[K     |████████████████████            | 614kB 3.4MB/s eta 0:00:01\r\u001b[K     |████████████████████▍           | 624kB 3.4MB/s eta 0:00:01\r\u001b[K     |████████████████████▊           | 634kB 3.4MB/s eta 0:00:01\r\u001b[K     |█████████████████████           | 645kB 3.4MB/s eta 0:00:01\r\u001b[K     |█████████████████████▍          | 655kB 3.4MB/s eta 0:00:01\r\u001b[K     |█████████████████████▊          | 665kB 3.4MB/s eta 0:00:01\r\u001b[K     |██████████████████████          | 675kB 3.4MB/s eta 0:00:01\r\u001b[K     |██████████████████████▍         | 686kB 3.4MB/s eta 0:00:01\r\u001b[K     |██████████████████████▊         | 696kB 3.4MB/s eta 0:00:01\r\u001b[K     |███████████████████████         | 706kB 3.4MB/s eta 0:00:01\r\u001b[K     |███████████████████████▍        | 716kB 3.4MB/s eta 0:00:01\r\u001b[K     |███████████████████████▊        | 727kB 3.4MB/s eta 0:00:01\r\u001b[K     |████████████████████████        | 737kB 3.4MB/s eta 0:00:01\r\u001b[K     |████████████████████████▍       | 747kB 3.4MB/s eta 0:00:01\r\u001b[K     |████████████████████████▊       | 757kB 3.4MB/s eta 0:00:01\r\u001b[K     |█████████████████████████       | 768kB 3.4MB/s eta 0:00:01\r\u001b[K     |█████████████████████████▍      | 778kB 3.4MB/s eta 0:00:01\r\u001b[K     |█████████████████████████▊      | 788kB 3.4MB/s eta 0:00:01\r\u001b[K     |██████████████████████████      | 798kB 3.4MB/s eta 0:00:01\r\u001b[K     |██████████████████████████▍     | 808kB 3.4MB/s eta 0:00:01\r\u001b[K     |██████████████████████████▊     | 819kB 3.4MB/s eta 0:00:01\r\u001b[K     |███████████████████████████     | 829kB 3.4MB/s eta 0:00:01\r\u001b[K     |███████████████████████████▍    | 839kB 3.4MB/s eta 0:00:01\r\u001b[K     |███████████████████████████▊    | 849kB 3.4MB/s eta 0:00:01\r\u001b[K     |████████████████████████████    | 860kB 3.4MB/s eta 0:00:01\r\u001b[K     |████████████████████████████▍   | 870kB 3.4MB/s eta 0:00:01\r\u001b[K     |████████████████████████████▊   | 880kB 3.4MB/s eta 0:00:01\r\u001b[K     |█████████████████████████████   | 890kB 3.4MB/s eta 0:00:01\r\u001b[K     |█████████████████████████████▍  | 901kB 3.4MB/s eta 0:00:01\r\u001b[K     |█████████████████████████████▊  | 911kB 3.4MB/s eta 0:00:01\r\u001b[K     |██████████████████████████████  | 921kB 3.4MB/s eta 0:00:01\r\u001b[K     |██████████████████████████████▍ | 931kB 3.4MB/s eta 0:00:01\r\u001b[K     |██████████████████████████████▊ | 942kB 3.4MB/s eta 0:00:01\r\u001b[K     |███████████████████████████████ | 952kB 3.4MB/s eta 0:00:01\r\u001b[K     |███████████████████████████████▍| 962kB 3.4MB/s eta 0:00:01\r\u001b[K     |███████████████████████████████▊| 972kB 3.4MB/s eta 0:00:01\r\u001b[K     |████████████████████████████████| 983kB 3.4MB/s \n",
            "\u001b[?25hRequirement already satisfied: six in /usr/local/lib/python3.6/dist-packages (from langdetect) (1.15.0)\n",
            "Building wheels for collected packages: langdetect\n",
            "  Building wheel for langdetect (setup.py) ... \u001b[?25l\u001b[?25hdone\n",
            "  Created wheel for langdetect: filename=langdetect-1.0.8-cp36-none-any.whl size=993193 sha256=70f014701af5e3ea1695bae9197a38cfbe39b77a2b4b8700f417b874d50a6aae\n",
            "  Stored in directory: /root/.cache/pip/wheels/8d/b3/aa/6d99de9f3841d7d3d40a60ea06e6d669e8e5012e6c8b947a57\n",
            "Successfully built langdetect\n",
            "Installing collected packages: langdetect\n",
            "Successfully installed langdetect-1.0.8\n"
          ],
          "name": "stdout"
        }
      ]
    },
    {
      "cell_type": "code",
      "metadata": {
        "id": "MKW9OJUrmJ4j",
        "colab_type": "code",
        "colab": {
          "base_uri": "https://localhost:8080/",
          "height": 122
        },
        "outputId": "9e95c7aa-29b4-4952-97df-634f90fb8077"
      },
      "source": [
        "from google.colab import drive\n",
        "drive.mount('/content/drive')"
      ],
      "execution_count": null,
      "outputs": [
        {
          "output_type": "stream",
          "text": [
            "Go to this URL in a browser: https://accounts.google.com/o/oauth2/auth?client_id=947318989803-6bn6qk8qdgf4n4g3pfee6491hc0brc4i.apps.googleusercontent.com&redirect_uri=urn%3aietf%3awg%3aoauth%3a2.0%3aoob&response_type=code&scope=email%20https%3a%2f%2fwww.googleapis.com%2fauth%2fdocs.test%20https%3a%2f%2fwww.googleapis.com%2fauth%2fdrive%20https%3a%2f%2fwww.googleapis.com%2fauth%2fdrive.photos.readonly%20https%3a%2f%2fwww.googleapis.com%2fauth%2fpeopleapi.readonly\n",
            "\n",
            "Enter your authorization code:\n",
            "··········\n",
            "Mounted at /content/drive\n"
          ],
          "name": "stdout"
        }
      ]
    },
    {
      "cell_type": "code",
      "metadata": {
        "id": "gr30Ah8OmjzM",
        "colab_type": "code",
        "colab": {}
      },
      "source": [
        "import glob\n",
        "import os"
      ],
      "execution_count": null,
      "outputs": []
    },
    {
      "cell_type": "code",
      "metadata": {
        "id": "fI7A0o8YmygH",
        "colab_type": "code",
        "colab": {}
      },
      "source": [
        "path = glob.glob('/content/drive/My Drive/ct1-23/*.csv')"
      ],
      "execution_count": null,
      "outputs": []
    },
    {
      "cell_type": "code",
      "metadata": {
        "id": "xduitT7GnFOG",
        "colab_type": "code",
        "colab": {}
      },
      "source": [
        "ls = []\n",
        "\n",
        "for file in path:\n",
        "  df = pd.read_csv(file, index_col=None, header=0)\n",
        "  ls.append(df)\n",
        "df1 = pd.concat(ls, ignore_index=False)"
      ],
      "execution_count": null,
      "outputs": []
    },
    {
      "cell_type": "code",
      "metadata": {
        "id": "vrLHmKuAn9VY",
        "colab_type": "code",
        "colab": {
          "base_uri": "https://localhost:8080/",
          "height": 224
        },
        "outputId": "e10e4f0e-b14e-49f6-973a-4face39bfde8"
      },
      "source": [
        "df1.head()"
      ],
      "execution_count": null,
      "outputs": [
        {
          "output_type": "execute_result",
          "data": {
            "text/html": [
              "<div>\n",
              "<style scoped>\n",
              "    .dataframe tbody tr th:only-of-type {\n",
              "        vertical-align: middle;\n",
              "    }\n",
              "\n",
              "    .dataframe tbody tr th {\n",
              "        vertical-align: top;\n",
              "    }\n",
              "\n",
              "    .dataframe thead th {\n",
              "        text-align: right;\n",
              "    }\n",
              "</style>\n",
              "<table border=\"1\" class=\"dataframe\">\n",
              "  <thead>\n",
              "    <tr style=\"text-align: right;\">\n",
              "      <th></th>\n",
              "      <th>1240727808080412673</th>\n",
              "      <th>0.35714285714285715</th>\n",
              "      <th>1240862157228703744</th>\n",
              "      <th>0.3666666666666667</th>\n",
              "      <th>1241032864109559808</th>\n",
              "      <th>0.25833333333333336</th>\n",
              "      <th>1241208627530104834</th>\n",
              "      <th>0</th>\n",
              "      <th>1241929233808621569</th>\n",
              "      <th>1242693296553693186</th>\n",
              "      <th>0.07500000000000001</th>\n",
              "      <th>1243420475713183745</th>\n",
              "      <th>0.2</th>\n",
              "      <th>1243071692966105088</th>\n",
              "      <th>1241546525613985795</th>\n",
              "      <th>0.075</th>\n",
              "      <th>1242329734022696962</th>\n",
              "      <th>-0.175</th>\n",
              "      <th>1244538897243111430</th>\n",
              "      <th>-0.15000000000000002</th>\n",
              "      <th>1245600908131487747</th>\n",
              "      <th>0.16666666666666666</th>\n",
              "      <th>1245998455132016640</th>\n",
              "      <th>1246696937471918080</th>\n",
              "      <th>1246319464154411016</th>\n",
              "      <th>-0.0625</th>\n",
              "      <th>1243814588862402560</th>\n",
              "      <th>1245218600174211074</th>\n",
              "      <th>1247029727409266690</th>\n",
              "      <th>0.1261904761904762</th>\n",
              "      <th>1244845796165652480</th>\n",
              "      <th>1</th>\n",
              "      <th>1247779323890683908</th>\n",
              "      <th>0.25</th>\n",
              "      <th>1248137354734374912</th>\n",
              "      <th>-0.3966666666666666</th>\n",
              "      <th>1247414998374027265</th>\n",
              "      <th>-0.8</th>\n",
              "    </tr>\n",
              "  </thead>\n",
              "  <tbody>\n",
              "    <tr>\n",
              "      <th>0</th>\n",
              "      <td>1.240728e+18</td>\n",
              "      <td>0.116071</td>\n",
              "      <td>NaN</td>\n",
              "      <td>NaN</td>\n",
              "      <td>NaN</td>\n",
              "      <td>NaN</td>\n",
              "      <td>NaN</td>\n",
              "      <td>NaN</td>\n",
              "      <td>NaN</td>\n",
              "      <td>NaN</td>\n",
              "      <td>NaN</td>\n",
              "      <td>NaN</td>\n",
              "      <td>NaN</td>\n",
              "      <td>NaN</td>\n",
              "      <td>NaN</td>\n",
              "      <td>NaN</td>\n",
              "      <td>NaN</td>\n",
              "      <td>NaN</td>\n",
              "      <td>NaN</td>\n",
              "      <td>NaN</td>\n",
              "      <td>NaN</td>\n",
              "      <td>NaN</td>\n",
              "      <td>NaN</td>\n",
              "      <td>NaN</td>\n",
              "      <td>NaN</td>\n",
              "      <td>NaN</td>\n",
              "      <td>NaN</td>\n",
              "      <td>NaN</td>\n",
              "      <td>NaN</td>\n",
              "      <td>NaN</td>\n",
              "      <td>NaN</td>\n",
              "      <td>NaN</td>\n",
              "      <td>NaN</td>\n",
              "      <td>NaN</td>\n",
              "      <td>NaN</td>\n",
              "      <td>NaN</td>\n",
              "      <td>NaN</td>\n",
              "      <td>NaN</td>\n",
              "    </tr>\n",
              "    <tr>\n",
              "      <th>1</th>\n",
              "      <td>1.240728e+18</td>\n",
              "      <td>-0.050000</td>\n",
              "      <td>NaN</td>\n",
              "      <td>NaN</td>\n",
              "      <td>NaN</td>\n",
              "      <td>NaN</td>\n",
              "      <td>NaN</td>\n",
              "      <td>NaN</td>\n",
              "      <td>NaN</td>\n",
              "      <td>NaN</td>\n",
              "      <td>NaN</td>\n",
              "      <td>NaN</td>\n",
              "      <td>NaN</td>\n",
              "      <td>NaN</td>\n",
              "      <td>NaN</td>\n",
              "      <td>NaN</td>\n",
              "      <td>NaN</td>\n",
              "      <td>NaN</td>\n",
              "      <td>NaN</td>\n",
              "      <td>NaN</td>\n",
              "      <td>NaN</td>\n",
              "      <td>NaN</td>\n",
              "      <td>NaN</td>\n",
              "      <td>NaN</td>\n",
              "      <td>NaN</td>\n",
              "      <td>NaN</td>\n",
              "      <td>NaN</td>\n",
              "      <td>NaN</td>\n",
              "      <td>NaN</td>\n",
              "      <td>NaN</td>\n",
              "      <td>NaN</td>\n",
              "      <td>NaN</td>\n",
              "      <td>NaN</td>\n",
              "      <td>NaN</td>\n",
              "      <td>NaN</td>\n",
              "      <td>NaN</td>\n",
              "      <td>NaN</td>\n",
              "      <td>NaN</td>\n",
              "    </tr>\n",
              "    <tr>\n",
              "      <th>2</th>\n",
              "      <td>1.240728e+18</td>\n",
              "      <td>-0.714286</td>\n",
              "      <td>NaN</td>\n",
              "      <td>NaN</td>\n",
              "      <td>NaN</td>\n",
              "      <td>NaN</td>\n",
              "      <td>NaN</td>\n",
              "      <td>NaN</td>\n",
              "      <td>NaN</td>\n",
              "      <td>NaN</td>\n",
              "      <td>NaN</td>\n",
              "      <td>NaN</td>\n",
              "      <td>NaN</td>\n",
              "      <td>NaN</td>\n",
              "      <td>NaN</td>\n",
              "      <td>NaN</td>\n",
              "      <td>NaN</td>\n",
              "      <td>NaN</td>\n",
              "      <td>NaN</td>\n",
              "      <td>NaN</td>\n",
              "      <td>NaN</td>\n",
              "      <td>NaN</td>\n",
              "      <td>NaN</td>\n",
              "      <td>NaN</td>\n",
              "      <td>NaN</td>\n",
              "      <td>NaN</td>\n",
              "      <td>NaN</td>\n",
              "      <td>NaN</td>\n",
              "      <td>NaN</td>\n",
              "      <td>NaN</td>\n",
              "      <td>NaN</td>\n",
              "      <td>NaN</td>\n",
              "      <td>NaN</td>\n",
              "      <td>NaN</td>\n",
              "      <td>NaN</td>\n",
              "      <td>NaN</td>\n",
              "      <td>NaN</td>\n",
              "      <td>NaN</td>\n",
              "    </tr>\n",
              "    <tr>\n",
              "      <th>3</th>\n",
              "      <td>1.240728e+18</td>\n",
              "      <td>0.700000</td>\n",
              "      <td>NaN</td>\n",
              "      <td>NaN</td>\n",
              "      <td>NaN</td>\n",
              "      <td>NaN</td>\n",
              "      <td>NaN</td>\n",
              "      <td>NaN</td>\n",
              "      <td>NaN</td>\n",
              "      <td>NaN</td>\n",
              "      <td>NaN</td>\n",
              "      <td>NaN</td>\n",
              "      <td>NaN</td>\n",
              "      <td>NaN</td>\n",
              "      <td>NaN</td>\n",
              "      <td>NaN</td>\n",
              "      <td>NaN</td>\n",
              "      <td>NaN</td>\n",
              "      <td>NaN</td>\n",
              "      <td>NaN</td>\n",
              "      <td>NaN</td>\n",
              "      <td>NaN</td>\n",
              "      <td>NaN</td>\n",
              "      <td>NaN</td>\n",
              "      <td>NaN</td>\n",
              "      <td>NaN</td>\n",
              "      <td>NaN</td>\n",
              "      <td>NaN</td>\n",
              "      <td>NaN</td>\n",
              "      <td>NaN</td>\n",
              "      <td>NaN</td>\n",
              "      <td>NaN</td>\n",
              "      <td>NaN</td>\n",
              "      <td>NaN</td>\n",
              "      <td>NaN</td>\n",
              "      <td>NaN</td>\n",
              "      <td>NaN</td>\n",
              "      <td>NaN</td>\n",
              "    </tr>\n",
              "    <tr>\n",
              "      <th>4</th>\n",
              "      <td>1.240728e+18</td>\n",
              "      <td>0.000000</td>\n",
              "      <td>NaN</td>\n",
              "      <td>NaN</td>\n",
              "      <td>NaN</td>\n",
              "      <td>NaN</td>\n",
              "      <td>NaN</td>\n",
              "      <td>NaN</td>\n",
              "      <td>NaN</td>\n",
              "      <td>NaN</td>\n",
              "      <td>NaN</td>\n",
              "      <td>NaN</td>\n",
              "      <td>NaN</td>\n",
              "      <td>NaN</td>\n",
              "      <td>NaN</td>\n",
              "      <td>NaN</td>\n",
              "      <td>NaN</td>\n",
              "      <td>NaN</td>\n",
              "      <td>NaN</td>\n",
              "      <td>NaN</td>\n",
              "      <td>NaN</td>\n",
              "      <td>NaN</td>\n",
              "      <td>NaN</td>\n",
              "      <td>NaN</td>\n",
              "      <td>NaN</td>\n",
              "      <td>NaN</td>\n",
              "      <td>NaN</td>\n",
              "      <td>NaN</td>\n",
              "      <td>NaN</td>\n",
              "      <td>NaN</td>\n",
              "      <td>NaN</td>\n",
              "      <td>NaN</td>\n",
              "      <td>NaN</td>\n",
              "      <td>NaN</td>\n",
              "      <td>NaN</td>\n",
              "      <td>NaN</td>\n",
              "      <td>NaN</td>\n",
              "      <td>NaN</td>\n",
              "    </tr>\n",
              "  </tbody>\n",
              "</table>\n",
              "</div>"
            ],
            "text/plain": [
              "   1240727808080412673  0.35714285714285715  ...  1247414998374027265  -0.8\n",
              "0         1.240728e+18             0.116071  ...                  NaN   NaN\n",
              "1         1.240728e+18            -0.050000  ...                  NaN   NaN\n",
              "2         1.240728e+18            -0.714286  ...                  NaN   NaN\n",
              "3         1.240728e+18             0.700000  ...                  NaN   NaN\n",
              "4         1.240728e+18             0.000000  ...                  NaN   NaN\n",
              "\n",
              "[5 rows x 38 columns]"
            ]
          },
          "metadata": {
            "tags": []
          },
          "execution_count": 9
        }
      ]
    },
    {
      "cell_type": "code",
      "metadata": {
        "id": "zIK5ycHun06s",
        "colab_type": "code",
        "colab": {}
      },
      "source": [
        "#Need to create dataframes out of files 24-127 in five more dataframes. RAM overloads when all included in same notebook."
      ],
      "execution_count": null,
      "outputs": []
    }
  ]
}