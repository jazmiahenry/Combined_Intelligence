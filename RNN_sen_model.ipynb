{
 "cells": [
  {
   "cell_type": "code",
   "execution_count": null,
   "metadata": {},
   "outputs": [],
   "source": [
    "import pandas as pd\n",
    "import numpy as np\n",
    "import keras\n",
    "import matplotlib.pyplot as plt\n",
    "import tensorflow as tf\n",
    "from keras.models import Sequential\n",
    "from keras.layers import Dense\n",
    "from keras.layers import LSTM\n",
    "from keras.layers import Dropout\n",
    "from sklearn.preprocessing import MinMaxScaler"
   ]
  },
  {
   "cell_type": "code",
   "execution_count": null,
   "metadata": {},
   "outputs": [],
   "source": [
    "!pip install simpletransformers"
   ]
  },
  {
   "cell_type": "code",
   "execution_count": null,
   "metadata": {},
   "outputs": [],
   "source": [
    "import warnings\n",
    "warnings.simplefilter('ignore')\n",
    "import gc\n",
    "from scipy.special import softmax\n",
    "\n",
    "from simpletransformers.classification.classification_model import ClassificationModel\n",
    "from sklearn.metrics import mean_squared_error as mse"
   ]
  },
  {
   "cell_type": "code",
   "execution_count": null,
   "metadata": {},
   "outputs": [],
   "source": [
    "df = pd.read_csv('df.csv')"
   ]
  },
  {
   "cell_type": "code",
   "execution_count": null,
   "metadata": {},
   "outputs": [],
   "source": [
    "train = df.iloc[:, :11685610]\n",
    "test = df.iloc[:, 11685610:]"
   ]
  },
  {
   "cell_type": "code",
   "execution_count": null,
   "metadata": {},
   "outputs": [],
   "source": [
    "train.head()"
   ]
  },
  {
   "cell_type": "code",
   "execution_count": null,
   "metadata": {},
   "outputs": [],
   "source": [
    "train['text'].apply(lambda x: len(x)).describe()"
   ]
  },
  {
   "cell_type": "code",
   "execution_count": null,
   "metadata": {},
   "outputs": [],
   "source": [
    "train['label'].value_counts()"
   ]
  },
  {
   "cell_type": "code",
   "execution_count": null,
   "metadata": {},
   "outputs": [],
   "source": [
    "train['label'][~train['label'].isin([0, -1, 1])] = -1"
   ]
  },
  {
   "cell_type": "code",
   "execution_count": null,
   "metadata": {},
   "outputs": [],
   "source": [
    "train.isnull().sum()"
   ]
  },
  {
   "cell_type": "code",
   "execution_count": null,
   "metadata": {},
   "outputs": [],
   "source": [
    "test.head()"
   ]
  },
  {
   "cell_type": "code",
   "execution_count": null,
   "metadata": {},
   "outputs": [],
   "source": [
    "test.isnull().sum()"
   ]
  },
  {
   "cell_type": "code",
   "execution_count": null,
   "metadata": {},
   "outputs": [],
   "source": [
    "train[train['label'] == 1]['text'].values[:5]"
   ]
  },
  {
   "cell_type": "code",
   "execution_count": null,
   "metadata": {},
   "outputs": [],
   "source": [
    "train[train['label'] == 0]['text'].values[:5]"
   ]
  },
  {
   "cell_type": "code",
   "execution_count": null,
   "metadata": {},
   "outputs": [],
   "source": [
    "train[train['label'] == -1]['text'].values[:5]"
   ]
  },
  {
   "cell_type": "code",
   "execution_count": null,
   "metadata": {},
   "outputs": [],
   "source": [
    "def get_model(model_type, model_name, n_epochs = 2, train_batch_size = 112, eval_batch_size = 144, seq_len = 134, lr = 2e-5):\n",
    "  model = ClassificationModel(model_type, model_name,num_labels=1, args={'train_batch_size':train_batch_size,\n",
    "                                                                         \"eval_batch_size\": eval_batch_size,\n",
    "                                                                         'reprocess_input_data': True,\n",
    "                                                                         'overwrite_output_dir': True,\n",
    "                                                                         'fp16': False,\n",
    "                                                                         'do_lower_case': False,\n",
    "                                                                         'num_train_epochs': n_epochs,\n",
    "                                                                         'max_seq_length': seq_len,\n",
    "                                                                         'regression': True,\n",
    "                                                                         'manual_seed': 2,\n",
    "                                                                         \"learning_rate\":lr,\n",
    "                                                                         \"save_eval_checkpoints\": False,\n",
    "                                                                         \"save_model_every_epoch\": False,})\n",
    "return model"
   ]
  },
  {
   "cell_type": "code",
   "execution_count": null,
   "metadata": {},
   "outputs": [],
   "source": [
    "tmp = pd.DataFrame()\n",
    "tmp['text'] = train['text']\n",
    "tmp['labels'] = train['label']\n",
    "tmp_test = test[['text']].rename({'text': 'text'}, axis=1)\n",
    "tmp_test['labels'] = 0\n",
    "tmp_trn, tmp_val = train_test_split(tmp, test_size=0.15, random_state=2)"
   ]
  },
  {
   "cell_type": "code",
   "execution_count": null,
   "metadata": {},
   "outputs": [],
   "source": [
    "model = get_model('roberta', 'roberta-base', n_epochs=3)\n",
    "model.train_model(tmp_trn)\n",
    "preds_val = model.eval_model(tmp_val)[1]\n",
    "preds_val = np.clip(preds_val, -1, 1)\n",
    "print(f\"RMSE: {mse(tmp_val['labels'], preds_val)**0.5}\")\n",
    "test_preds = model.eval_model(tmp_test)[1]\n",
    "test_preds = np.clip(test_preds, -1, 1)\n",
    "pv_1 = preds_val\n",
    "pt_1 = test_preds"
   ]
  },
  {
   "cell_type": "code",
   "execution_count": null,
   "metadata": {},
   "outputs": [],
   "source": [
    "model = get_model('roberta', 'roberta-large', n_epochs=1, train_batch_size=16, eval_batch_size=16)\n",
    "model.train_model(tmp_trn)\n",
    "preds_val = model.eval_model(tmp_val)[1]\n",
    "preds_val = np.clip(preds_val, -1, 1)\n",
    "print(f\"RMSE: {mse(tmp_val['labels'], preds_val)**0.5}\")\n",
    "test_preds = model.eval_model(tmp_test)[1]\n",
    "test_preds = np.clip(test_preds, -1, 1)\n",
    "pv_2 = preds_val\n",
    "pt_2 = test_preds"
   ]
  },
  {
   "cell_type": "code",
   "execution_count": null,
   "metadata": {},
   "outputs": [],
   "source": [
    "model = get_model('roberta', 'roberta-large', n_epochs=2, train_batch_size=16, eval_batch_size=16, lr = 2e-5)\n",
    "model.train_model(tmp_trn)\n",
    "preds_val = model.eval_model(tmp_val)[1]\n",
    "preds_val = np.clip(preds_val, -1, 1)\n",
    "print(f\"RMSE: {mse(tmp_val['labels'], preds_val)**0.5}\")\n",
    "test_preds = model.eval_model(tmp_test)[1]\n",
    "test_preds = np.clip(test_preds, -1, 1)\n",
    "pv_3 = preds_val\n",
    "pt_3 = test_preds"
   ]
  },
  {
   "cell_type": "code",
   "execution_count": null,
   "metadata": {},
   "outputs": [],
   "source": [
    "model = get_model('roberta', 'roberta-large', n_epochs=3, train_batch_size=16, eval_batch_size=16, lr = 1e-5)\n",
    "model.train_model(tmp_trn)\n",
    "preds_val = model.eval_model(tmp_val)[1]\n",
    "preds_val = np.clip(preds_val, -1, 1)\n",
    "print(f\"RMSE: {mse(tmp_val['labels'], preds_val)**0.5}\")\n",
    "test_preds = model.eval_model(tmp_test)[1]\n",
    "test_preds = np.clip(test_preds, -1, 1)\n",
    "pv_4 = preds_val\n",
    "pt_4 = test_preds"
   ]
  },
  {
   "cell_type": "code",
   "execution_count": null,
   "metadata": {},
   "outputs": [],
   "source": [
    "pv = ((pv_1 * 0.3 + pv_2 * 0.7) * 0.3 + pv_3*0.7)*0.65 + pv_4*0.35\n",
    "print(f\"RMSE: {mse(tmp_val['labels'], pv)**0.5}\")"
   ]
  },
  {
   "cell_type": "code",
   "execution_count": null,
   "metadata": {},
   "outputs": [],
   "source": [
    "tp = ((pt_1 * 0.3 + pt_2 * 0.7) * 0.3 + pt_3*0.7)*0.65 + pt_4*0.35"
   ]
  },
  {
   "cell_type": "code",
   "execution_count": null,
   "metadata": {},
   "outputs": [],
   "source": [
    "pd.Series(tp).describe()"
   ]
  }
 ],
 "metadata": {
  "kernelspec": {
   "display_name": "Python 3",
   "language": "python",
   "name": "python3"
  },
  "language_info": {
   "codemirror_mode": {
    "name": "ipython",
    "version": 3
   },
   "file_extension": ".py",
   "mimetype": "text/x-python",
   "name": "python",
   "nbconvert_exporter": "python",
   "pygments_lexer": "ipython3",
   "version": "3.7.6"
  }
 },
 "nbformat": 4,
 "nbformat_minor": 4
}
